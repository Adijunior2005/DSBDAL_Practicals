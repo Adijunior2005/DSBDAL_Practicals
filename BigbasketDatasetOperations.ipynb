{
 "cells": [
  {
   "cell_type": "code",
   "execution_count": 1,
   "id": "c334d309",
   "metadata": {},
   "outputs": [],
   "source": [
    "import pandas as pd\n",
    "import numpy as np"
   ]
  },
  {
   "cell_type": "code",
   "execution_count": 3,
   "id": "e4ccbcc7",
   "metadata": {},
   "outputs": [],
   "source": [
    "dt=pd.read_csv(\"C:\\\\Users\\\\Aditya Yadav\\\\Downloads\\\\archive (5)\\\\BigBasket.csv\")"
   ]
  },
  {
   "cell_type": "code",
   "execution_count": 4,
   "id": "c9291556",
   "metadata": {},
   "outputs": [
    {
     "data": {
      "text/html": [
       "<div>\n",
       "<style scoped>\n",
       "    .dataframe tbody tr th:only-of-type {\n",
       "        vertical-align: middle;\n",
       "    }\n",
       "\n",
       "    .dataframe tbody tr th {\n",
       "        vertical-align: top;\n",
       "    }\n",
       "\n",
       "    .dataframe thead th {\n",
       "        text-align: right;\n",
       "    }\n",
       "</style>\n",
       "<table border=\"1\" class=\"dataframe\">\n",
       "  <thead>\n",
       "    <tr style=\"text-align: right;\">\n",
       "      <th></th>\n",
       "      <th>ProductName</th>\n",
       "      <th>Brand</th>\n",
       "      <th>Price</th>\n",
       "      <th>DiscountPrice</th>\n",
       "      <th>Image_Url</th>\n",
       "      <th>Quantity</th>\n",
       "      <th>Category</th>\n",
       "      <th>SubCategory</th>\n",
       "      <th>Absolute_Url</th>\n",
       "    </tr>\n",
       "  </thead>\n",
       "  <tbody>\n",
       "    <tr>\n",
       "      <th>0</th>\n",
       "      <td>Onion (Loose)</td>\n",
       "      <td>Fresho</td>\n",
       "      <td>69.75</td>\n",
       "      <td>52.0</td>\n",
       "      <td>https://www.bigbasket.com/media/uploads/p/l/40...</td>\n",
       "      <td>2 kg</td>\n",
       "      <td>Fruits &amp; Vegetables</td>\n",
       "      <td>Potato, Onion &amp; Tomato</td>\n",
       "      <td>https://www.bigbasket.com/pd/40075537/fresho-o...</td>\n",
       "    </tr>\n",
       "    <tr>\n",
       "      <th>1</th>\n",
       "      <td>Onion</td>\n",
       "      <td>Fresho</td>\n",
       "      <td>174.35</td>\n",
       "      <td>130.0</td>\n",
       "      <td>https://www.bigbasket.com/media/uploads/p/l/12...</td>\n",
       "      <td>5 kg</td>\n",
       "      <td>Fruits &amp; Vegetables</td>\n",
       "      <td>Potato, Onion &amp; Tomato</td>\n",
       "      <td>https://www.bigbasket.com/pd/1201414/fresho-on...</td>\n",
       "    </tr>\n",
       "    <tr>\n",
       "      <th>2</th>\n",
       "      <td>Onion (Loose)</td>\n",
       "      <td>Fresho</td>\n",
       "      <td>34.87</td>\n",
       "      <td>26.0</td>\n",
       "      <td>https://www.bigbasket.com/media/uploads/p/l/10...</td>\n",
       "      <td>1 kg</td>\n",
       "      <td>Fruits &amp; Vegetables</td>\n",
       "      <td>Potato, Onion &amp; Tomato</td>\n",
       "      <td>https://www.bigbasket.com/pd/10000148/fresho-o...</td>\n",
       "    </tr>\n",
       "    <tr>\n",
       "      <th>3</th>\n",
       "      <td>Onion</td>\n",
       "      <td>Fresho</td>\n",
       "      <td>69.74</td>\n",
       "      <td>52.0</td>\n",
       "      <td>https://www.bigbasket.com/media/uploads/p/l/12...</td>\n",
       "      <td>2 kg</td>\n",
       "      <td>Fruits &amp; Vegetables</td>\n",
       "      <td>Potato, Onion &amp; Tomato</td>\n",
       "      <td>https://www.bigbasket.com/pd/1201413/fresho-on...</td>\n",
       "    </tr>\n",
       "    <tr>\n",
       "      <th>4</th>\n",
       "      <td>Onion (Loose)</td>\n",
       "      <td>Fresho</td>\n",
       "      <td>174.37</td>\n",
       "      <td>129.0</td>\n",
       "      <td>https://www.bigbasket.com/media/uploads/p/l/10...</td>\n",
       "      <td>5 kg</td>\n",
       "      <td>Fruits &amp; Vegetables</td>\n",
       "      <td>Potato, Onion &amp; Tomato</td>\n",
       "      <td>https://www.bigbasket.com/pd/10000150/fresho-o...</td>\n",
       "    </tr>\n",
       "  </tbody>\n",
       "</table>\n",
       "</div>"
      ],
      "text/plain": [
       "     ProductName   Brand   Price  DiscountPrice  \\\n",
       "0  Onion (Loose)  Fresho   69.75           52.0   \n",
       "1          Onion  Fresho  174.35          130.0   \n",
       "2  Onion (Loose)  Fresho   34.87           26.0   \n",
       "3          Onion  Fresho   69.74           52.0   \n",
       "4  Onion (Loose)  Fresho  174.37          129.0   \n",
       "\n",
       "                                           Image_Url Quantity  \\\n",
       "0  https://www.bigbasket.com/media/uploads/p/l/40...     2 kg   \n",
       "1  https://www.bigbasket.com/media/uploads/p/l/12...     5 kg   \n",
       "2  https://www.bigbasket.com/media/uploads/p/l/10...     1 kg   \n",
       "3  https://www.bigbasket.com/media/uploads/p/l/12...     2 kg   \n",
       "4  https://www.bigbasket.com/media/uploads/p/l/10...     5 kg   \n",
       "\n",
       "              Category             SubCategory  \\\n",
       "0  Fruits & Vegetables  Potato, Onion & Tomato   \n",
       "1  Fruits & Vegetables  Potato, Onion & Tomato   \n",
       "2  Fruits & Vegetables  Potato, Onion & Tomato   \n",
       "3  Fruits & Vegetables  Potato, Onion & Tomato   \n",
       "4  Fruits & Vegetables  Potato, Onion & Tomato   \n",
       "\n",
       "                                        Absolute_Url  \n",
       "0  https://www.bigbasket.com/pd/40075537/fresho-o...  \n",
       "1  https://www.bigbasket.com/pd/1201414/fresho-on...  \n",
       "2  https://www.bigbasket.com/pd/10000148/fresho-o...  \n",
       "3  https://www.bigbasket.com/pd/1201413/fresho-on...  \n",
       "4  https://www.bigbasket.com/pd/10000150/fresho-o...  "
      ]
     },
     "execution_count": 4,
     "metadata": {},
     "output_type": "execute_result"
    }
   ],
   "source": [
    "dt.head(5)"
   ]
  },
  {
   "cell_type": "code",
   "execution_count": 6,
   "id": "30daeaef",
   "metadata": {},
   "outputs": [
    {
     "data": {
      "text/plain": [
       "(8208, 9)"
      ]
     },
     "execution_count": 6,
     "metadata": {},
     "output_type": "execute_result"
    }
   ],
   "source": [
    "dt.shape"
   ]
  },
  {
   "cell_type": "code",
   "execution_count": 7,
   "id": "e1be2397",
   "metadata": {},
   "outputs": [
    {
     "data": {
      "text/plain": [
       "Index(['ProductName', 'Brand', 'Price', 'DiscountPrice', 'Image_Url',\n",
       "       'Quantity', 'Category', 'SubCategory', 'Absolute_Url'],\n",
       "      dtype='object')"
      ]
     },
     "execution_count": 7,
     "metadata": {},
     "output_type": "execute_result"
    }
   ],
   "source": [
    "dt.columns"
   ]
  },
  {
   "cell_type": "code",
   "execution_count": 8,
   "id": "31dfcab1",
   "metadata": {},
   "outputs": [
    {
     "data": {
      "text/plain": [
       "<bound method NDFrame.describe of                                             ProductName                Brand  \\\n",
       "0                                         Onion (Loose)               Fresho   \n",
       "1                                                 Onion               Fresho   \n",
       "2                                         Onion (Loose)               Fresho   \n",
       "3                                                 Onion               Fresho   \n",
       "4                                         Onion (Loose)               Fresho   \n",
       "...                                                 ...                  ...   \n",
       "8203  Foil Alphabet Balloon - Letter V, Party Decor,...              Bvishal   \n",
       "8204  Decoration Balls - Used For Parties, Unique De...              Bvishal   \n",
       "8205                    Foundation Blending Brush - 230                  PAC   \n",
       "8206                          One Week Immunity Booster  The Healthy Company   \n",
       "8207  Blush & Glow - Green Apple Apricot Gel Scrub, ...                Lakme   \n",
       "\n",
       "       Price  DiscountPrice  \\\n",
       "0      69.75           52.0   \n",
       "1     174.35          130.0   \n",
       "2      34.87           26.0   \n",
       "3      69.74           52.0   \n",
       "4     174.37          129.0   \n",
       "...      ...            ...   \n",
       "8203   49.00           25.0   \n",
       "8204  399.00          249.0   \n",
       "8205  465.00          232.5   \n",
       "8206  799.00          799.0   \n",
       "8207  250.00          175.0   \n",
       "\n",
       "                                              Image_Url Quantity  \\\n",
       "0     https://www.bigbasket.com/media/uploads/p/l/40...     2 kg   \n",
       "1     https://www.bigbasket.com/media/uploads/p/l/12...     5 kg   \n",
       "2     https://www.bigbasket.com/media/uploads/p/l/10...     1 kg   \n",
       "3     https://www.bigbasket.com/media/uploads/p/l/12...     2 kg   \n",
       "4     https://www.bigbasket.com/media/uploads/p/l/10...     5 kg   \n",
       "...                                                 ...      ...   \n",
       "8203  https://www.bigbasket.com/media/uploads/p/l/40...     1 pc   \n",
       "8204  https://www.bigbasket.com/media/uploads/p/l/40...    6 pcs   \n",
       "8205  https://www.bigbasket.com/media/uploads/p/l/40...     1 pc   \n",
       "8206  https://www.bigbasket.com/media/uploads/p/l/40...     28 g   \n",
       "8207  https://www.bigbasket.com/media/uploads/p/l/40...    100 g   \n",
       "\n",
       "                  Category               SubCategory  \\\n",
       "0      Fruits & Vegetables    Potato, Onion & Tomato   \n",
       "1      Fruits & Vegetables    Potato, Onion & Tomato   \n",
       "2      Fruits & Vegetables    Potato, Onion & Tomato   \n",
       "3      Fruits & Vegetables    Potato, Onion & Tomato   \n",
       "4      Fruits & Vegetables    Potato, Onion & Tomato   \n",
       "...                    ...                       ...   \n",
       "8203  Cleaning & Household  Caps, Balloons & Candles   \n",
       "8204  Cleaning & Household               Decorations   \n",
       "8205      Beauty & Hygiene        Makeup Accessories   \n",
       "8206      Beauty & Hygiene    Supplements & Proteins   \n",
       "8207      Beauty & Hygiene                 Face Care   \n",
       "\n",
       "                                           Absolute_Url  \n",
       "0     https://www.bigbasket.com/pd/40075537/fresho-o...  \n",
       "1     https://www.bigbasket.com/pd/1201414/fresho-on...  \n",
       "2     https://www.bigbasket.com/pd/10000148/fresho-o...  \n",
       "3     https://www.bigbasket.com/pd/1201413/fresho-on...  \n",
       "4     https://www.bigbasket.com/pd/10000150/fresho-o...  \n",
       "...                                                 ...  \n",
       "8203  https://www.bigbasket.com/pd/40237020/bvishal-...  \n",
       "8204  https://www.bigbasket.com/pd/40237682/bvishal-...  \n",
       "8205  https://www.bigbasket.com/pd/40175488/pac-foun...  \n",
       "8206  https://www.bigbasket.com/pd/40200885/the-heal...  \n",
       "8207  https://www.bigbasket.com/pd/40224773/lakme-bl...  \n",
       "\n",
       "[8208 rows x 9 columns]>"
      ]
     },
     "execution_count": 8,
     "metadata": {},
     "output_type": "execute_result"
    }
   ],
   "source": [
    "dt.describe"
   ]
  },
  {
   "cell_type": "code",
   "execution_count": 10,
   "id": "fc21fec9",
   "metadata": {},
   "outputs": [
    {
     "data": {
      "text/plain": [
       "545.4185891812865"
      ]
     },
     "execution_count": 10,
     "metadata": {},
     "output_type": "execute_result"
    }
   ],
   "source": [
    "dt.Price.mean()"
   ]
  },
  {
   "cell_type": "code",
   "execution_count": 13,
   "id": "ce6c96ea",
   "metadata": {},
   "outputs": [
    {
     "data": {
      "text/plain": [
       "ProductName      0\n",
       "Brand            0\n",
       "Price            0\n",
       "DiscountPrice    0\n",
       "Image_Url        0\n",
       "Quantity         0\n",
       "Category         0\n",
       "SubCategory      0\n",
       "Absolute_Url     0\n",
       "dtype: int64"
      ]
     },
     "execution_count": 13,
     "metadata": {},
     "output_type": "execute_result"
    }
   ],
   "source": [
    "dt.isnull().sum()"
   ]
  },
  {
   "cell_type": "code",
   "execution_count": null,
   "id": "ce9ba53f",
   "metadata": {},
   "outputs": [],
   "source": []
  },
  {
   "cell_type": "code",
   "execution_count": null,
   "id": "ce85a0f6",
   "metadata": {},
   "outputs": [],
   "source": []
  }
 ],
 "metadata": {
  "kernelspec": {
   "display_name": "Python 3 (ipykernel)",
   "language": "python",
   "name": "python3"
  },
  "language_info": {
   "codemirror_mode": {
    "name": "ipython",
    "version": 3
   },
   "file_extension": ".py",
   "mimetype": "text/x-python",
   "name": "python",
   "nbconvert_exporter": "python",
   "pygments_lexer": "ipython3",
   "version": "3.11.4"
  }
 },
 "nbformat": 4,
 "nbformat_minor": 5
}
