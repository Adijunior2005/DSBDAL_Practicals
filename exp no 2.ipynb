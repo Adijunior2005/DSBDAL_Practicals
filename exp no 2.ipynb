{
 "cells": [
  {
   "cell_type": "code",
   "execution_count": 10,
   "id": "ebb07134",
   "metadata": {},
   "outputs": [],
   "source": [
    "import pandas as pd\n",
    "import numpy as np\n",
    "import matplotlib.pyplot as plt"
   ]
  },
  {
   "cell_type": "code",
   "execution_count": 11,
   "id": "029fd5d3",
   "metadata": {},
   "outputs": [
    {
     "data": {
      "text/html": [
       "<div>\n",
       "<style scoped>\n",
       "    .dataframe tbody tr th:only-of-type {\n",
       "        vertical-align: middle;\n",
       "    }\n",
       "\n",
       "    .dataframe tbody tr th {\n",
       "        vertical-align: top;\n",
       "    }\n",
       "\n",
       "    .dataframe thead th {\n",
       "        text-align: right;\n",
       "    }\n",
       "</style>\n",
       "<table border=\"1\" class=\"dataframe\">\n",
       "  <thead>\n",
       "    <tr style=\"text-align: right;\">\n",
       "      <th></th>\n",
       "      <th>maths score</th>\n",
       "      <th>reading score</th>\n",
       "      <th>writing score</th>\n",
       "      <th>placement score</th>\n",
       "      <th>placement offer count</th>\n",
       "    </tr>\n",
       "  </thead>\n",
       "  <tbody>\n",
       "    <tr>\n",
       "      <th>0</th>\n",
       "      <td>80</td>\n",
       "      <td>68</td>\n",
       "      <td>70</td>\n",
       "      <td>89</td>\n",
       "      <td>3</td>\n",
       "    </tr>\n",
       "    <tr>\n",
       "      <th>1</th>\n",
       "      <td>71</td>\n",
       "      <td>61</td>\n",
       "      <td>85</td>\n",
       "      <td>91</td>\n",
       "      <td>3</td>\n",
       "    </tr>\n",
       "    <tr>\n",
       "      <th>2</th>\n",
       "      <td>79</td>\n",
       "      <td>16</td>\n",
       "      <td>87</td>\n",
       "      <td>77</td>\n",
       "      <td>2</td>\n",
       "    </tr>\n",
       "    <tr>\n",
       "      <th>3</th>\n",
       "      <td>61</td>\n",
       "      <td>77</td>\n",
       "      <td>74</td>\n",
       "      <td>76</td>\n",
       "      <td>2</td>\n",
       "    </tr>\n",
       "    <tr>\n",
       "      <th>4</th>\n",
       "      <td>78</td>\n",
       "      <td>71</td>\n",
       "      <td>67</td>\n",
       "      <td>90</td>\n",
       "      <td>3</td>\n",
       "    </tr>\n",
       "    <tr>\n",
       "      <th>5</th>\n",
       "      <td>73</td>\n",
       "      <td>68</td>\n",
       "      <td>90</td>\n",
       "      <td>80</td>\n",
       "      <td>2</td>\n",
       "    </tr>\n",
       "    <tr>\n",
       "      <th>6</th>\n",
       "      <td>77</td>\n",
       "      <td>62</td>\n",
       "      <td>70</td>\n",
       "      <td>35</td>\n",
       "      <td>2</td>\n",
       "    </tr>\n",
       "    <tr>\n",
       "      <th>7</th>\n",
       "      <td>74</td>\n",
       "      <td>45</td>\n",
       "      <td>80</td>\n",
       "      <td>12</td>\n",
       "      <td>1</td>\n",
       "    </tr>\n",
       "    <tr>\n",
       "      <th>8</th>\n",
       "      <td>76</td>\n",
       "      <td>60</td>\n",
       "      <td>79</td>\n",
       "      <td>77</td>\n",
       "      <td>2</td>\n",
       "    </tr>\n",
       "    <tr>\n",
       "      <th>9</th>\n",
       "      <td>75</td>\n",
       "      <td>65</td>\n",
       "      <td>85</td>\n",
       "      <td>87</td>\n",
       "      <td>3</td>\n",
       "    </tr>\n",
       "    <tr>\n",
       "      <th>10</th>\n",
       "      <td>160</td>\n",
       "      <td>67</td>\n",
       "      <td>12</td>\n",
       "      <td>83</td>\n",
       "      <td>2</td>\n",
       "    </tr>\n",
       "    <tr>\n",
       "      <th>11</th>\n",
       "      <td>79</td>\n",
       "      <td>72</td>\n",
       "      <td>88</td>\n",
       "      <td>180</td>\n",
       "      <td>2</td>\n",
       "    </tr>\n",
       "    <tr>\n",
       "      <th>12</th>\n",
       "      <td>80</td>\n",
       "      <td>80</td>\n",
       "      <td>78</td>\n",
       "      <td>94</td>\n",
       "      <td>3</td>\n",
       "    </tr>\n",
       "  </tbody>\n",
       "</table>\n",
       "</div>"
      ],
      "text/plain": [
       "    maths score  reading score  writing score  placement score  \\\n",
       "0            80             68             70               89   \n",
       "1            71             61             85               91   \n",
       "2            79             16             87               77   \n",
       "3            61             77             74               76   \n",
       "4            78             71             67               90   \n",
       "5            73             68             90               80   \n",
       "6            77             62             70               35   \n",
       "7            74             45             80               12   \n",
       "8            76             60             79               77   \n",
       "9            75             65             85               87   \n",
       "10          160             67             12               83   \n",
       "11           79             72             88              180   \n",
       "12           80             80             78               94   \n",
       "\n",
       "    placement offer count  \n",
       "0                       3  \n",
       "1                       3  \n",
       "2                       2  \n",
       "3                       2  \n",
       "4                       3  \n",
       "5                       2  \n",
       "6                       2  \n",
       "7                       1  \n",
       "8                       2  \n",
       "9                       3  \n",
       "10                      2  \n",
       "11                      2  \n",
       "12                      3  "
      ]
     },
     "execution_count": 11,
     "metadata": {},
     "output_type": "execute_result"
    }
   ],
   "source": [
    "df=pd.read_excel(\"C:\\\\Users\\\\Welcome\\\\Desktop\\\\dataset.xlsx\")\n",
    "df"
   ]
  },
  {
   "cell_type": "code",
   "execution_count": 19,
   "id": "818b2698",
   "metadata": {},
   "outputs": [
    {
     "data": {
      "text/plain": [
       "<Axes: >"
      ]
     },
     "execution_count": 19,
     "metadata": {},
     "output_type": "execute_result"
    }
   ],
   "source": [
    "col = ['maths score', 'reading score' , 'writing score','placement score']\n",
    "df.boxplot(col)"
   ]
  },
  {
   "cell_type": "code",
   "execution_count": 20,
   "id": "1a06861e",
   "metadata": {},
   "outputs": [
    {
     "name": "stdout",
     "output_type": "stream",
     "text": [
      "(array([10], dtype=int64),)\n",
      "(array([2], dtype=int64),)\n",
      "(array([10], dtype=int64),)\n"
     ]
    }
   ],
   "source": [
    "print(np.where(df['maths score']>90))\n",
    "print(np.where(df['reading score']<25))\n",
    "print(np.where(df['writing score']<30))"
   ]
  },
  {
   "cell_type": "code",
   "execution_count": 21,
   "id": "f28623d6",
   "metadata": {},
   "outputs": [
    {
     "data": {
      "image/png": "[encoded data removed]",
      "text/plain": [
       "<Figure size 640x480 with 1 Axes>"
      ]
     },
     "metadata": {},
     "output_type": "display_data"
    },
    {
     "data": {
      "image/png": "[encoded data removed]",
      "text/plain": [
       "<Figure size 1800x1000 with 1 Axes>"
      ]
     },
     "metadata": {},
     "output_type": "display_data"
    }
   ],
   "source": [
    "fig, ax = plt.subplots(figsize = (18,10))\n",
    "ax.scatter(df['placement score'], df['placement offer count'])\n",
    "plt.show()"
   ]
  },
  {
   "cell_type": "code",
   "execution_count": 22,
   "id": "301888c3",
   "metadata": {},
   "outputs": [
    {
     "name": "stdout",
     "output_type": "stream",
     "text": [
      "(array([6], dtype=int64),)\n",
      "(array([11], dtype=int64),)\n"
     ]
    }
   ],
   "source": [
    "print(np.where((df['placement score']<50) & (df['placement offer count']>1)))\n",
    "print(np.where((df['placement score']>85) & (df['placement offer count']<3)))\n"
   ]
  },
  {
   "cell_type": "code",
   "execution_count": 23,
   "id": "5a155c1a",
   "metadata": {},
   "outputs": [],
   "source": [
    "#USING Z SCORE METHOD\n",
    "from scipy import stats"
   ]
  },
  {
   "cell_type": "code",
   "execution_count": 25,
   "id": "ee653b57",
   "metadata": {},
   "outputs": [
    {
     "name": "stdout",
     "output_type": "stream",
     "text": [
      "0     0.076560\n",
      "1     0.466020\n",
      "2     0.119834\n",
      "3     0.898753\n",
      "4     0.163107\n",
      "5     0.379473\n",
      "6     0.206380\n",
      "7     0.336200\n",
      "8     0.249653\n",
      "9     0.292927\n",
      "10    3.385301\n",
      "11    0.119834\n",
      "12    0.076560\n",
      "Name: maths score, dtype: float64\n"
     ]
    }
   ],
   "source": [
    "z = np.abs(stats.zscore(df['maths score']))\n",
    "print(z)"
   ]
  },
  {
   "cell_type": "code",
   "execution_count": 26,
   "id": "3f469000",
   "metadata": {},
   "outputs": [
    {
     "data": {
      "text/plain": [
       "(array([ 0,  2,  4, 11, 12], dtype=int64),)"
      ]
     },
     "execution_count": 26,
     "metadata": {},
     "output_type": "execute_result"
    }
   ],
   "source": [
    "threshold = 0.18\n",
    "sample_outliers = np.where(z <threshold)\n",
    "sample_outliers\n"
   ]
  },
  {
   "cell_type": "code",
   "execution_count": 27,
   "id": "f60f9c56",
   "metadata": {},
   "outputs": [],
   "source": [
    "# USING INTER QUARTILE RANGE"
   ]
  },
  {
   "cell_type": "code",
   "execution_count": 28,
   "id": "c679781c",
   "metadata": {},
   "outputs": [
    {
     "data": {
      "text/plain": [
       "[16, 45, 60, 61, 62, 65, 67, 68, 68, 71, 72, 77, 80]"
      ]
     },
     "execution_count": 28,
     "metadata": {},
     "output_type": "execute_result"
    }
   ],
   "source": [
    "sorted_rscore= sorted(df['reading score'])\n",
    "sorted_rscore"
   ]
  },
  {
   "cell_type": "code",
   "execution_count": 29,
   "id": "ac5a1ca6",
   "metadata": {},
   "outputs": [
    {
     "name": "stdout",
     "output_type": "stream",
     "text": [
      "61.0 71.0\n"
     ]
    }
   ],
   "source": [
    "q1 = np.percentile(sorted_rscore, 25)\n",
    "q3 = np.percentile(sorted_rscore, 75)\n",
    "print(q1,q3)"
   ]
  },
  {
   "cell_type": "code",
   "execution_count": 30,
   "id": "c213ea69",
   "metadata": {},
   "outputs": [],
   "source": [
    "IQR = q3-q1"
   ]
  },
  {
   "cell_type": "code",
   "execution_count": 31,
   "id": "3c496ec2",
   "metadata": {},
   "outputs": [
    {
     "name": "stdout",
     "output_type": "stream",
     "text": [
      "46.0 86.0\n"
     ]
    }
   ],
   "source": [
    "lwr_bound = q1-(1.5*IQR)\n",
    "upr_bound = q3+(1.5*IQR)\n",
    "print(lwr_bound, upr_bound)"
   ]
  },
  {
   "cell_type": "code",
   "execution_count": 33,
   "id": "91314ef5",
   "metadata": {},
   "outputs": [
    {
     "name": "stdout",
     "output_type": "stream",
     "text": [
      "[16, 45]\n"
     ]
    }
   ],
   "source": [
    "r_outliers = []\n",
    "for i in sorted_rscore:\n",
    "    if (i<lwr_bound or i>upr_bound):\n",
    "        r_outliers.append(i)\n",
    "print(r_outliers)"
   ]
  },
  {
   "cell_type": "code",
   "execution_count": null,
   "id": "d7fb3dc6",
   "metadata": {},
   "outputs": [],
   "source": []
  }
 ],
 "metadata": {
  "kernelspec": {
   "display_name": "Python 3 (ipykernel)",
   "language": "python",
   "name": "python3"
  },
  "language_info": {
   "codemirror_mode": {
    "name": "ipython",
    "version": 3
   },
   "file_extension": ".py",
   "mimetype": "text/x-python",
   "name": "python",
   "nbconvert_exporter": "python",
   "pygments_lexer": "ipython3",
   "version": "3.11.4"
  }
 },
 "nbformat": 4,
 "nbformat_minor": 5
}
